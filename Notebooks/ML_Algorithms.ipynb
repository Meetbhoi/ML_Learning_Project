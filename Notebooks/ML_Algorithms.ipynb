{
 "cells": [
  {
   "cell_type": "markdown",
   "id": "56a77d2b-dd4a-4b36-8c24-2a24f28fe451",
   "metadata": {},
   "source": [
    "# Logistic Regression from Scratch (Diabetes Dataset)\n",
    "\n",
    "In this notebook, I’m implementing Logistic Regression *from scratch* without sklearn.\n",
    "The dataset used is the PIMA Diabetes dataset.\n",
    "\n",
    "---\n",
    "\n",
    "## 1. Import dependencies Load and explore dataset\n"
   ]
  },
  {
   "cell_type": "code",
   "execution_count": 1,
   "id": "8e4240a0-7b6b-43ce-b8b5-4765688c752d",
   "metadata": {},
   "outputs": [],
   "source": [
    "import numpy as np\n",
    "import pandas as pd\n",
    "import matplotlib.pyplot as plt"
   ]
  },
  {
   "cell_type": "code",
   "execution_count": 2,
   "id": "70052c63-9904-48c8-bbde-baf82882bc2f",
   "metadata": {},
   "outputs": [
    {
     "data": {
      "text/html": [
       "<div>\n",
       "<style scoped>\n",
       "    .dataframe tbody tr th:only-of-type {\n",
       "        vertical-align: middle;\n",
       "    }\n",
       "\n",
       "    .dataframe tbody tr th {\n",
       "        vertical-align: top;\n",
       "    }\n",
       "\n",
       "    .dataframe thead th {\n",
       "        text-align: right;\n",
       "    }\n",
       "</style>\n",
       "<table border=\"1\" class=\"dataframe\">\n",
       "  <thead>\n",
       "    <tr style=\"text-align: right;\">\n",
       "      <th></th>\n",
       "      <th>Pregnancies</th>\n",
       "      <th>Glucose</th>\n",
       "      <th>BloodPressure</th>\n",
       "      <th>SkinThickness</th>\n",
       "      <th>Insulin</th>\n",
       "      <th>BMI</th>\n",
       "      <th>DiabetesPedigreeFunction</th>\n",
       "      <th>Age</th>\n",
       "      <th>Outcome</th>\n",
       "    </tr>\n",
       "  </thead>\n",
       "  <tbody>\n",
       "    <tr>\n",
       "      <th>0</th>\n",
       "      <td>6</td>\n",
       "      <td>148</td>\n",
       "      <td>72</td>\n",
       "      <td>35</td>\n",
       "      <td>0</td>\n",
       "      <td>33.6</td>\n",
       "      <td>0.627</td>\n",
       "      <td>50</td>\n",
       "      <td>1</td>\n",
       "    </tr>\n",
       "    <tr>\n",
       "      <th>1</th>\n",
       "      <td>1</td>\n",
       "      <td>85</td>\n",
       "      <td>66</td>\n",
       "      <td>29</td>\n",
       "      <td>0</td>\n",
       "      <td>26.6</td>\n",
       "      <td>0.351</td>\n",
       "      <td>31</td>\n",
       "      <td>0</td>\n",
       "    </tr>\n",
       "    <tr>\n",
       "      <th>2</th>\n",
       "      <td>8</td>\n",
       "      <td>183</td>\n",
       "      <td>64</td>\n",
       "      <td>0</td>\n",
       "      <td>0</td>\n",
       "      <td>23.3</td>\n",
       "      <td>0.672</td>\n",
       "      <td>32</td>\n",
       "      <td>1</td>\n",
       "    </tr>\n",
       "    <tr>\n",
       "      <th>3</th>\n",
       "      <td>1</td>\n",
       "      <td>89</td>\n",
       "      <td>66</td>\n",
       "      <td>23</td>\n",
       "      <td>94</td>\n",
       "      <td>28.1</td>\n",
       "      <td>0.167</td>\n",
       "      <td>21</td>\n",
       "      <td>0</td>\n",
       "    </tr>\n",
       "    <tr>\n",
       "      <th>4</th>\n",
       "      <td>0</td>\n",
       "      <td>137</td>\n",
       "      <td>40</td>\n",
       "      <td>35</td>\n",
       "      <td>168</td>\n",
       "      <td>43.1</td>\n",
       "      <td>2.288</td>\n",
       "      <td>33</td>\n",
       "      <td>1</td>\n",
       "    </tr>\n",
       "  </tbody>\n",
       "</table>\n",
       "</div>"
      ],
      "text/plain": [
       "   Pregnancies  Glucose  BloodPressure  SkinThickness  Insulin   BMI  \\\n",
       "0            6      148             72             35        0  33.6   \n",
       "1            1       85             66             29        0  26.6   \n",
       "2            8      183             64              0        0  23.3   \n",
       "3            1       89             66             23       94  28.1   \n",
       "4            0      137             40             35      168  43.1   \n",
       "\n",
       "   DiabetesPedigreeFunction  Age  Outcome  \n",
       "0                     0.627   50        1  \n",
       "1                     0.351   31        0  \n",
       "2                     0.672   32        1  \n",
       "3                     0.167   21        0  \n",
       "4                     2.288   33        1  "
      ]
     },
     "execution_count": 2,
     "metadata": {},
     "output_type": "execute_result"
    }
   ],
   "source": [
    "df = pd.read_csv(\"diabetes.csv\")\n",
    "df.head()"
   ]
  },
  {
   "cell_type": "markdown",
   "id": "0ecf5956-5542-4d76-80a5-ac91f19080cd",
   "metadata": {},
   "source": [
    "# 2. Train/Test Split\n",
    "We split the dataset into train and test sets using a custom shuffle function.\n"
   ]
  },
  {
   "cell_type": "code",
   "execution_count": 3,
   "id": "e65219d6-8387-4747-8200-49c63ce7db0a",
   "metadata": {},
   "outputs": [],
   "source": [
    "def Shuffle_split(data ,test_ratio,seed=42):\n",
    "    \"\"\" Shuffle and split data set into train and test sets.\n",
    "    \n",
    "    Args:\n",
    "        data(Data Frame):Dataset\n",
    "        test ratio(Float):fraction of test data\n",
    "        seed(int): random seed for reproducebility\n",
    "\n",
    "    returns:\n",
    "        train_set,test_set,(Data Frame ,Data Frame)\n",
    "    \"\"\"\n",
    "    np.random.seed(seed)\n",
    "    shuffled_indeces = np.random.permutation(len(data))\n",
    "    shuffle_number = int (test_ratio * len(data))\n",
    "    test_indeces = shuffled_indeces[:shuffle_number]\n",
    "    train_indeces = shuffled_indeces[shuffle_number:]\n",
    "\n",
    "    return data.iloc[train_indeces] , data.iloc[test_indeces]"
   ]
  },
  {
   "cell_type": "code",
   "execution_count": 4,
   "id": "4ae2798a-d98f-4e89-929d-87a56937424f",
   "metadata": {},
   "outputs": [],
   "source": [
    "train_set, test_set = Shuffle_split(df,0.2)"
   ]
  },
  {
   "cell_type": "code",
   "execution_count": 5,
   "id": "2a7c4499-f234-496a-868c-ee16fde206cb",
   "metadata": {},
   "outputs": [],
   "source": [
    "# Separate features and labels\n",
    "X = train_set.drop(\"Outcome\", axis=1).to_numpy()\n",
    "Y = train_set[\"Outcome\"].to_numpy().reshape(-1, 1)"
   ]
  },
  {
   "cell_type": "markdown",
   "id": "622a5d9e-f26e-4a30-b8c8-54a164f16e5e",
   "metadata": {},
   "source": [
    "# 3. Normalization"
   ]
  },
  {
   "cell_type": "code",
   "execution_count": 6,
   "id": "9eb7c1c3-6726-4612-9769-5883501a4bbb",
   "metadata": {},
   "outputs": [],
   "source": [
    "def zscore_normalize_features(X):\n",
    "    \"\"\"\n",
    "    Normalize features using z-score method.\n",
    "\n",
    "    Args:\n",
    "        X (ndarray): feature matrix\n",
    "\n",
    "    Returns:\n",
    "        X_norm, mu, sigma\n",
    "    \"\"\"\n",
    "    mu = np.mean(X, axis=0)\n",
    "    sigma = np.std(X, axis=0)\n",
    "    X_norm = (X - mu) / sigma\n",
    "    return X_norm, mu, sigma\n"
   ]
  },
  {
   "cell_type": "code",
   "execution_count": 7,
   "id": "902e876e-36a9-4a15-b049-3803161b9db5",
   "metadata": {},
   "outputs": [],
   "source": [
    "X_norm ,mean ,sigma= zscore_normalize_features(X)"
   ]
  },
  {
   "cell_type": "markdown",
   "id": "99556e04-38c1-4d96-af6c-7c044e155e06",
   "metadata": {},
   "source": [
    "# 4. Sigmoid Function"
   ]
  },
  {
   "cell_type": "code",
   "execution_count": 8,
   "id": "672e29e4-ff8b-4853-9e56-e99f6ba90086",
   "metadata": {},
   "outputs": [],
   "source": [
    "def sigmoid(z):\n",
    "    return 1 / ( 1 + np.exp(-z))"
   ]
  },
  {
   "cell_type": "markdown",
   "id": "3d6ced09-a7d8-45ce-bd48-f8a01cb88531",
   "metadata": {},
   "source": [
    "# 5. Cost Function"
   ]
  },
  {
   "cell_type": "code",
   "execution_count": 9,
   "id": "5ab31547-c900-4dd6-ab50-e69cb9f775aa",
   "metadata": {},
   "outputs": [],
   "source": [
    "# define a cost function to calculate the error by Mean Square Method.\n",
    "def compute_cost_logistic(X,Y,w,b):\n",
    "    \"\"\" \n",
    "    compute the logistics regression cost.\n",
    "    Args:\n",
    "        X (ndarray): shape (m, n) feature matrix\n",
    "        Y (ndarray): shape (m, 1) labels\n",
    "        w (ndarray): shape (n, 1) weights\n",
    "        b (float): bias term\n",
    "    returns:\n",
    "        cost:float\n",
    "    \n",
    "    \"\"\"\n",
    "\n",
    "    m = X.shape[0]\n",
    "    cost = 0.0\n",
    "    for i in range(m):\n",
    "        z_i = np.dot(X[i],w) + b\n",
    "        f_wb_i = sigmoid(z_i)\n",
    "\n",
    "        cost += -Y[i] * np.log(f_wb_i) - (1 - Y[i]) * np.log( 1 - f_wb_i)\n",
    "        \n",
    "    cost = cost/m\n",
    "    return cost"
   ]
  },
  {
   "cell_type": "code",
   "execution_count": 10,
   "id": "0f3a6832-ea6d-4e68-83e6-edf853c02cb0",
   "metadata": {},
   "outputs": [
    {
     "name": "stdout",
     "output_type": "stream",
     "text": [
      "[0.84478499]\n"
     ]
    }
   ],
   "source": [
    "w_tmp = np.ones((8,1))\n",
    "b_tmp = -1.5\n",
    "X_train = X_norm\n",
    "y_train = Y\n",
    "print(compute_cost_logistic(X_train, y_train, w_tmp, b_tmp))"
   ]
  },
  {
   "cell_type": "code",
   "execution_count": null,
   "id": "e3cdbb12-3c82-47a2-83f1-330f2020a21b",
   "metadata": {},
   "outputs": [],
   "source": []
  },
  {
   "cell_type": "code",
   "execution_count": null,
   "id": "89a6ad0c-015d-4b90-8b9c-40798ec9e0df",
   "metadata": {},
   "outputs": [],
   "source": []
  }
 ],
 "metadata": {
  "kernelspec": {
   "display_name": "Python [conda env:base] *",
   "language": "python",
   "name": "conda-base-py"
  },
  "language_info": {
   "codemirror_mode": {
    "name": "ipython",
    "version": 3
   },
   "file_extension": ".py",
   "mimetype": "text/x-python",
   "name": "python",
   "nbconvert_exporter": "python",
   "pygments_lexer": "ipython3",
   "version": "3.12.7"
  }
 },
 "nbformat": 4,
 "nbformat_minor": 5
}
